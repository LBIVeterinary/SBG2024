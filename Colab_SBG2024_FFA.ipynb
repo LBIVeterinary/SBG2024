{
  "nbformat": 4,
  "nbformat_minor": 0,
  "metadata": {
    "colab": {
      "provenance": [],
      "authorship_tag": "ABX9TyOYjmF3jIXyrFuFF/AFmOhw",
      "include_colab_link": true
    },
    "kernelspec": {
      "name": "python3",
      "display_name": "Python 3"
    },
    "language_info": {
      "name": "python"
    }
  },
  "cells": [
    {
      "cell_type": "markdown",
      "metadata": {
        "id": "view-in-github",
        "colab_type": "text"
      },
      "source": [
        "<a href=\"https://colab.research.google.com/github/LBIVeterinary/SBG2024/blob/main/Colab_SBG2024_FFA.ipynb\" target=\"_parent\"><img src=\"https://colab.research.google.com/assets/colab-badge.svg\" alt=\"Open In Colab\"/></a>"
      ]
    },
    {
      "cell_type": "markdown",
      "source": [
        "#GENÔMICA BACTERIANA\n",
        "Profa. Dra. Flávia Aburjaile\n",
        "\n",
        "##Linguagens do Colab\n",
        "\n",
        "A plataforma virtual do Colab aceita e trabalha com duas linguagens, IPython e Bash. Todavia, de forma nativa a plataforma prioriza o uso de Python. Para forçar o uso de Shell basta adicionar um sinal de exclamação (!) antes da linha de código."
      ],
      "metadata": {
        "id": "AT7ae32oWI_S"
      }
    },
    {
      "cell_type": "code",
      "source": [
        "#Python\n",
        "print(\"Este é um comando em python!!!\")"
      ],
      "metadata": {
        "id": "0k9COT7uWUK_"
      },
      "execution_count": null,
      "outputs": []
    },
    {
      "cell_type": "code",
      "source": [
        "#Bash\n",
        "!echo \"Este é um comando em bash!!!\""
      ],
      "metadata": {
        "id": "cEQPgc8zWVi8"
      },
      "execution_count": null,
      "outputs": []
    },
    {
      "cell_type": "markdown",
      "source": [
        "##Download de programas e dependências\n",
        "\n",
        "Para as funcionalidades de genômica comparativa apresentadadas nesse notebook, utilizaremos os seguintes programas:\n",
        "\n",
        "FastQC https://www.bioinformatics.babraham.ac.uk/projects/fastqc/\n",
        "\n",
        "QUAST https://doi.org/10.1093/bioinformatics/btt086\n",
        "\n",
        "PROKKA https://doi.org/10.1093/bioinformatics/btu153\n",
        "\n",
        "pyANI https://doi.org/10.1039/C5AY02550H\n",
        "\n",
        "Pan Virulence and resisTance analysis (PanViTa) https://doi.org/10.3389/fbinf.2023.1070406"
      ],
      "metadata": {
        "id": "EjgNSVZTVsEN"
      }
    },
    {
      "cell_type": "code",
      "execution_count": null,
      "metadata": {
        "id": "7rUvS7Bmggy0"
      },
      "outputs": [],
      "source": [
        "#Tempo de execução (aprox.) = 18 seg\n",
        "!pip install ipykernel\n",
        "!pip install -q condacolab\n",
        "import condacolab\n",
        "condacolab.install()"
      ]
    },
    {
      "cell_type": "code",
      "source": [
        "#Tempo de execução (aprox.) = 8 min\n",
        "!conda install conda-forge::mamba -y\n",
        "!mamba install -c bioconda multiqc -y\n",
        "!mamba install -c bioconda fastqc -y\n",
        "!mamba install -c bioconda quast -y\n",
        "!mamba install -c bioconda adapterremoval -y\n",
        "!mamba install -c bioconda spades -y\n",
        "!mamba install -c bioconda prokka -y\n",
        "!mamba install -c bioconda pyani -y\n",
        "!mamba install -c conda-forge datasets -y\n",
        "!wget https://raw.githubusercontent.com/dlnrodrigues/panvita/master/panvita.py\n",
        "!pip install pandas\n",
        "!pip install seaborn\n",
        "!pip install matplotlib\n",
        "!pip install numpy\n",
        "!pip install scipy\n",
        "!pip install wget\n",
        "!pip install basemap\n",
        "!chmod 777 panvita.py\n",
        "!./panvita.py -u"
      ],
      "metadata": {
        "collapsed": true,
        "id": "f-SYabut8MP7"
      },
      "execution_count": null,
      "outputs": []
    },
    {
      "cell_type": "markdown",
      "source": [
        "##Obtenção de leituras\n",
        "\n",
        "Arquivos que contem sequências biológicas podem ser obtidos de diferentes formas e em diferentes formatos.\n",
        "É sempre importante se atentar à qual o formato de arquivo para *input* de uma ferramenta, para não cometer o erro de obter o formato errado.\n",
        "\n",
        "Existem algumas ferramentas capazes de automatizar o download e a obtenção de sequências biológicas. Uma das mais utilizadas recentemente é o pipeline NCBI Datasets.\n",
        "\n",
        "Para o curso de hoje, vamos inicialmente obter arquivos contendo as leituras brutas de sequênciamentos depositados no banco de dados ENA (https://www.ebi.ac.uk/ena/browser/home). Posteriormente trabalharemos com montagens de genomas depositadas e disponíveis através do NCBI (https://www.ncbi.nlm.nih.gov/datasets/genome/)."
      ],
      "metadata": {
        "id": "dowy_jExWjm1"
      }
    },
    {
      "cell_type": "code",
      "source": [
        "#Tempo de execução (aprox.) = 1 min\n",
        "!mkdir Reads\n",
        "\n",
        "#Reads 01 SRR3924583/K27\n",
        "!wget ftp://ftp.sra.ebi.ac.uk/vol1/fastq/SRR392/006/SRR3924596/SRR3924596_1.fastq.gz -O Reads/Mpneumoniae_K27_1.fastq.gz\n",
        "!wget ftp://ftp.sra.ebi.ac.uk/vol1/fastq/SRR392/006/SRR3924596/SRR3924596_2.fastq.gz -O Reads/Mpneumoniae_K27_2.fastq.gz\n",
        "\n",
        "#Reads 02 SRR3924584/FL1\n",
        "!wget ftp://ftp.sra.ebi.ac.uk/vol1/fastq/SRR392/003/SRR3924593/SRR3924593_1.fastq.gz -O Reads/Mpneumoniae_FL1_1.fastq.gz\n",
        "!wget ftp://ftp.sra.ebi.ac.uk/vol1/fastq/SRR392/003/SRR3924593/SRR3924593_2.fastq.gz -O Reads/Mpneumoniae_FL1_2.fastq.gz\n",
        "\n",
        "#Reads 03 SRR3924585/M129_2002\n",
        "!wget ftp://ftp.sra.ebi.ac.uk/vol1/fastq/SRR392/005/SRR3924635/SRR3924635_1.fastq.gz -O Reads/Mpneumoniae_M129_2002_1.fastq.gz\n",
        "!wget ftp://ftp.sra.ebi.ac.uk/vol1/fastq/SRR392/005/SRR3924635/SRR3924635_2.fastq.gz -O Reads/Mpneumoniae_M129_2002_2.fastq.gz\n",
        "\n",
        "#Reads 04 SRR3924586/FL8\n",
        "!wget ftp://ftp.sra.ebi.ac.uk/vol1/fastq/SRR392/007/SRR3924587/SRR3924587_1.fastq.gz -O Reads/Mpneumoniae_FL8_1.fastq.gz\n",
        "!wget ftp://ftp.sra.ebi.ac.uk/vol1/fastq/SRR392/007/SRR3924587/SRR3924587_2.fastq.gz -O Reads/Mpneumoniae_FL8_2.fastq.gz\n",
        "\n",
        "#Reads 05 SRR3924587/E16\n",
        "!wget ftp://ftp.sra.ebi.ac.uk/vol1/fastq/SRR392/001/SRR3924591/SRR3924591_1.fastq.gz -O Reads/Mpneumoniae_E16_1.fastq.gz\n",
        "!wget ftp://ftp.sra.ebi.ac.uk/vol1/fastq/SRR392/001/SRR3924591/SRR3924591_2.fastq.gz -O Reads/Mpneumoniae_E16_2.fastq.gz"
      ],
      "metadata": {
        "collapsed": true,
        "id": "uW7XxC0cGE3c"
      },
      "execution_count": null,
      "outputs": []
    },
    {
      "cell_type": "code",
      "source": [
        "#Tempo de execução (aprox.) = 50 seg\n",
        "!cp Reads/Mpneumoniae_M129_2002_1.fastq.gz Reads/Mpneumoniae_M129_2002_1_raw.fastq.gz\n",
        "!gunzip Reads/Mpneumoniae_M129_2002_1_raw.fastq.gz\n",
        "!head -20 Reads/Mpneumoniae_M129_2002_1_raw.fastq"
      ],
      "metadata": {
        "id": "rN1hhNy-Spw_"
      },
      "execution_count": null,
      "outputs": []
    },
    {
      "cell_type": "markdown",
      "source": [
        "![image.png](data:image/png;base64,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)"
      ],
      "metadata": {
        "id": "TKhVQvEQb_Fh"
      }
    },
    {
      "cell_type": "markdown",
      "source": [
        "##Análise de qualidade do sequenciamento\n",
        "\n",
        "Um arquivo FASTQ contem as leituras de um sequênciamento. A qualidade de cada sequenciamento deve ser avaliada com base em diferentes fatores.\n",
        "\n",
        "Um dos principais programas para análise de qualidade de leituras é o FastQC."
      ],
      "metadata": {
        "id": "E7U4XBQDXRNj"
      }
    },
    {
      "cell_type": "code",
      "source": [
        "#Tempo de execução (aprox.) = 4 min\n",
        "!fastqc /content/Reads/*.fastq.gz\n",
        "!multiqc /content/Reads"
      ],
      "metadata": {
        "collapsed": true,
        "id": "SGPFfAOgNUsy"
      },
      "execution_count": null,
      "outputs": []
    },
    {
      "cell_type": "markdown",
      "source": [
        "##Trimagem\n",
        "\n",
        "A trimagem de sequências é um elemento chave na montagem de genomas, pois envolve a remoção de bases de baixa qualidade, adaptadores e contaminantes das sequências brutas antes da montagem. Esse processo é fundamental para garantir que a montagem seja precisa e livre de erros que possam ser introduzidos por sequências de má qualidade. Isso, por sua vez, aumenta a acurácia da montagem final, facilitando análises posteriores, como a anotação genômica."
      ],
      "metadata": {
        "id": "duoaYvYZXozg"
      }
    },
    {
      "cell_type": "code",
      "source": [
        "#Tempo de execução (aprox.) = 1 min\n",
        "!AdapterRemoval --file1 /content/Reads/Mpneumoniae_M129_2002_1.fastq.gz \\\n",
        "--file2 /content/Reads/Mpneumoniae_M129_2002_2.fastq.gz \\\n",
        "--threads 10 \\\n",
        "--basename Mpneumoniae_M129_2002_trimmed \\\n",
        "--trimns \\\n",
        "--trimqualities \\\n",
        "--minquality 30 \\\n",
        "--minlength 50 \\\n",
        "--collapse"
      ],
      "metadata": {
        "id": "ZaMbprCvO1_w"
      },
      "execution_count": null,
      "outputs": []
    },
    {
      "cell_type": "code",
      "source": [
        "#Tempo de execução (aprox.) = 1 min\n",
        "!mv Mpneumoniae_M129_2002_trimmed.pair1.truncated Mpneumoniae_M129_2002_trimmed.pair1.fastq\n",
        "!mv Mpneumoniae_M129_2002_trimmed.pair2.truncated Mpneumoniae_M129_2002_trimmed.pair2.fastq\n",
        "!fastqc /content/Mpneumoniae_M129_2002_trimmed.pair1.fastq\n",
        "!fastqc /content/Mpneumoniae_M129_2002_trimmed.pair2.fastq"
      ],
      "metadata": {
        "id": "F3Dz1nTMQ2dO"
      },
      "execution_count": null,
      "outputs": []
    },
    {
      "cell_type": "markdown",
      "source": [
        "##Montagem"
      ],
      "metadata": {
        "id": "itbmN32dXrqq"
      }
    },
    {
      "cell_type": "code",
      "source": [
        "#Tempo de execução (aprox.) = 0 seg\n",
        "!spades.py"
      ],
      "metadata": {
        "id": "939RbmW0UGBp"
      },
      "execution_count": null,
      "outputs": []
    },
    {
      "cell_type": "code",
      "source": [
        "#Tempo de execução (aprox.) = 60 min\n",
        "#!spades.py -1 /content/Mpneumoniae_M129_2002_trimmed.pair1.fastq -2 /content/Mpneumoniae_M129_2002_trimmed.pair2.fastq -o /content/Mpneumoniae_M129_2002_assembly -t 10 --isolate"
      ],
      "metadata": {
        "id": "zMZZNpv9T4VT"
      },
      "execution_count": null,
      "outputs": []
    },
    {
      "cell_type": "markdown",
      "source": [
        "##Qualidade da montagem\n",
        "\n",
        "O programa Quality Assessment Tool for Genome Assemblies (QUAST) é um dos mais utilizados para a análise da qualidade de montagens genômicas. Ele permite a avaliação de diversos critérios, como: número de contigs, o tamanho do maior contig, o N50 e o L50. O QUAST também oferece informações sobre regiões de discrepâncias em relação ao genoma de referência (caso seja fornecido).\n",
        "\n",
        "Além disso, o QUAST gera relatórios visuais e estatísticos que facilitam a interpretação dos resultados, permitindo identificar possíveis problemas, como montagens fragmentadas ou regiões mal cobertas. Esses relatórios são fundamentais para orientar melhorias no processo de montagem, como a escolha de parâmetros mais adequados ou a inclusão de dados adicionais para cobrir regiões críticas."
      ],
      "metadata": {
        "id": "v_6mj_aPXxZT"
      }
    },
    {
      "cell_type": "code",
      "source": [
        "#Tempo de execução (aprox.) = 5 seg\n",
        "!wget --no-check-certificate https://raw.githubusercontent.com/LBIVeterinary/SBG2024/main/Genomes.zip -O \"Genomes.zip\"\n",
        "!unzip -o Genomes.zip\n",
        "!rm Genomes.zip"
      ],
      "metadata": {
        "id": "t6NPMx9_elod"
      },
      "execution_count": null,
      "outputs": []
    },
    {
      "cell_type": "code",
      "source": [
        "#Tempo de execução (aprox.) = 25 seg\n",
        "!quast -o Quast_mycoplasmoides -t 10 Genomes/*.fna"
      ],
      "metadata": {
        "id": "bcOPtRwlpL_X"
      },
      "execution_count": null,
      "outputs": []
    },
    {
      "cell_type": "markdown",
      "source": [
        "##Anotando um genoma utilizando PROKKA\n",
        "\n",
        "Em um arquivo FASTA (fna), a informação da sequência biológica raramente é inteligivel para olhos humanos não treinados.\n",
        "\n",
        "Isso acontece pois o arquivo contem toda a informação disponibilizada por um genoma (ou proteoma), porém, essa informação ainda não foi descrita de forma à determinar informações de sentido biológica.\n",
        "\n",
        "Ao ato de dar um sentido e significado à uma sequência biológica é dado o nome de anotação.\n",
        "\n",
        "Ao anotar um genoma, espera-se determinar a estrutura de genes e outros compostos genômicos (anotação estrutural). Além disso, também espera-se obter informações quanto à função putativa de cada gene e fragmento não transcricional (anotação funcional).\n",
        "\n",
        "Existem alguns programas capazes de realizar os processos de anotação de genomas bacterianos. Um dos mais utilizados é o pipeline PROKKA."
      ],
      "metadata": {
        "id": "IeXnknhzUFHV"
      }
    },
    {
      "cell_type": "code",
      "source": [
        "#Tempo de execução (aprox.) = 0 seg\n",
        "!prokka -h"
      ],
      "metadata": {
        "id": "JzIU52NdUWpB"
      },
      "execution_count": null,
      "outputs": []
    },
    {
      "cell_type": "code",
      "source": [
        "#Tempo de execução (aprox.) = 3 min\n",
        "!prokka Genomes/Mpneumoniae_M129_2002.fna --outdir Mpneumoniae_M129_2002 --prefix Mp_M129_2002 --locustag Mp_M129_2002 --cpus 10 --force --genus Mycoplasmoides --species pneumoniae --strain M129_2002"
      ],
      "metadata": {
        "id": "xuz8y3rJFfHP"
      },
      "execution_count": null,
      "outputs": []
    },
    {
      "cell_type": "code",
      "source": [
        "#Tempo de execução (aprox.) = 1 seg\n",
        "!head -32 Mpneumoniae_M129_2002/Mp_M129_2002.gbk"
      ],
      "metadata": {
        "id": "_9R2oCkTGvCT"
      },
      "execution_count": null,
      "outputs": []
    },
    {
      "cell_type": "markdown",
      "source": [
        "##Avaliando Identidade Média de Nucleotídeos\n",
        "\n",
        "Diferentes organismos possuem diferentes caracteristicas intrinsecas. Isso está relacionado às diversas formas e conteúdos presentes em um genoma. São milhares de bases de se ordenam de formas incontáveis.\n",
        "\n",
        "De modo geral, essas diferenças genômicas entre linhagens relacionadas estão ligadas à genes linhagem específicos, inespecificidades da montagem, deleções, insersões, entre outros fatores.\n",
        "\n",
        "Uma análise capaz de quantificar a similaridade entre dois genomas, é a chamada Average of Nucleotide Identity (ANI), ou Identidade Média de Nucleotídeos.\n",
        "\n",
        "De forma geral, durante a análise por ANI os genomas (A e B) são inicialmente fragmentados *in silico*. Cada fragmento de A é então alinhado contra todos os possíveis fragmentos de B. Ao final, o identidade média de nucleotídeos entre A e B é a média dos valores de identidade dos alinhamentos entre os fragmentos feitos.\n",
        "\n",
        "Conceitualmente, um ANI superior à 95-96% indica que ambos os genomas pertencem à uma mesma espécie bacteriana."
      ],
      "metadata": {
        "id": "xxBMWO3oUrJp"
      }
    },
    {
      "cell_type": "code",
      "source": [
        "#Tempo de execução (aprox.) = 5 seg\n",
        "!average_nucleotide_identity.py -h"
      ],
      "metadata": {
        "id": "RYO0AlebQbMm"
      },
      "execution_count": null,
      "outputs": []
    },
    {
      "cell_type": "code",
      "source": [
        "#Tempo de execução (aprox.) = 1 min\n",
        "!average_nucleotide_identity.py -i Genomes -o TETRA_Mycoplasmoides -m TETRA -g --gmethod seaborn -f"
      ],
      "metadata": {
        "id": "1Q_YCTFIHVcX"
      },
      "execution_count": null,
      "outputs": []
    },
    {
      "cell_type": "code",
      "source": [
        "#Tempo de execução (aprox.) = 17 min\n",
        "!average_nucleotide_identity.py -i Genomes -o ANI_Mycoplasmoides -m ANIm -g --gmethod seaborn -f"
      ],
      "metadata": {
        "id": "E9dUFlvIPX0j"
      },
      "execution_count": null,
      "outputs": []
    },
    {
      "cell_type": "markdown",
      "source": [
        "##Análise de resistência e virulência\n",
        "\n",
        "No ambiente, diversos microrganismos precisam se adaptar à condições adversas. Seja pela toxicidade à elementos naturais, seja pela ação de antimicrobianos, bactérias estão sob constante pressão.\n",
        "\n",
        "Hoje em dia, existem bancos de dados que contem a informação desses genes capazes de lidar com a pressão envolvendo substâncias exógenas.\n",
        "\n",
        "**CARD** - Comprehensive Antibiotic Resistance Database <https://card.mcmaster.ca>\n",
        "\n",
        "**BacMet** - Antibacterial Biocide and Metal Resistance Genes Database <http://bacmet.biomedicine.gu.se>\n",
        "\n",
        "Por outro lado, um mecanismo de virulência é qualquer mecanismo que possibilite que um organismo infecte o hospedeiro, cause uma doença e sobreviva à nível celular.\n",
        "\n",
        "**VFDB** - Virulence Factor Database <http://www.mgc.ac.cn/VFs/>"
      ],
      "metadata": {
        "id": "SOA8JyzaUjeT"
      }
    },
    {
      "cell_type": "code",
      "source": [
        "#Tempo de execução (aprox.) = 4 min\n",
        "!prokka Genomes/Malvi_ATCC_29626.fna.fna --outdir Malvi_ATCC_29626 --prefix Ma_ATCC_29626 --locustag Ma_ATCC_29626 --cpus 10 --force --fast --noanno\n",
        "!prokka Genomes/Mpneumoniae_14-637.fna --outdir Mpneumoniae_14-637 --prefix Mp_14-637 --locustag Mp_14-637 --cpus 10 --force --fast --noanno\n",
        "!prokka Genomes/Mpneumoniae_16-734.fna --outdir Mpneumoniae_16-734 --prefix Mp_16-734 --locustag Mp_16-734 --cpus 10 --force --fast --noanno\n",
        "!prokka Genomes/Mpneumoniae_519.fna --outdir Mpneumoniae_519 --prefix Mp_519 --locustag Mp_519 --cpus 10 --force --fast --noanno\n",
        "!prokka Genomes/Mpneumoniae_630.fna --outdir Mpneumoniae_630 --prefix Mp_630 --locustag Mp_630 --cpus 10 --force --fast --noanno\n",
        "!prokka Genomes/Mpneumoniae_CO3.fna --outdir Mpneumoniae_CO3 --prefix Mp_CO3 --locustag Mp_CO3 --cpus 10 --force --fast --noanno\n",
        "!prokka Genomes/Mpneumoniae_E57.fna --outdir Mpneumoniae_E57 --prefix Mp_E57 --locustag Mp_E57 --cpus 10 --force --fast --noanno\n",
        "!prokka Genomes/Mpneumoniae_FH.fna --outdir Mpneumoniae_FH --prefix Mp_FH --locustag Mp_FH --cpus 10 --force --fast --noanno\n",
        "!prokka Genomes/Mpneumoniae_FH_2009.fna --outdir Mpneumoniae_FH_2009 --prefix Mp_FH_2009 --locustag Mp_FH_2009 --cpus 10 --force --fast --noanno\n",
        "!prokka Genomes/Mpneumoniae_KCH-120.fna --outdir Mpneumoniae_KCH-120 --prefix Mp_KCH-120 --locustag Mp_KCH-120 --cpus 10 --force --fast --noanno\n",
        "!prokka Genomes/Mpneumoniae_M129_2002.fna --outdir Mpneumoniae_M129_2002 --prefix Mp_M129_2002 --locustag Mp_M129_2002 --cpus 10 --force --fast --noanno\n",
        "!prokka Genomes/Mpneumoniae_NCTC10119.fna --outdir Mpneumoniae_NCTC10119 --prefix Mp_NCTC10119 --locustag Mp_NCTC10119 --cpus 10 --force --fast --noanno\n",
        "!prokka Genomes/Mpneumoniae_OA-63.fna --outdir Mpneumoniae_OA-63 --prefix Mp_OA-63 --locustag Mp_OA-63 --cpus 10 --force --fast --noanno\n",
        "!prokka Genomes/Mpneumoniae_RI3.fna --outdir Mpneumoniae_RI3 --prefix Mp_RI3 --locustag Mp_RI3 --cpus 10 --force --fast --noanno\n",
        "!prokka Genomes/Mpneumoniae_Y12-4.fna --outdir Mpneumoniae_Y12-4 --prefix Mp_Y12-4 --locustag Mp_Y12-4 --cpus 10 --force --fast --noanno"
      ],
      "metadata": {
        "id": "g6D8JhDFKjcQ"
      },
      "execution_count": null,
      "outputs": []
    },
    {
      "cell_type": "code",
      "source": [
        "#Tempo de execução (aprox.) = 2 seg\n",
        "!./panvita.py -h"
      ],
      "metadata": {
        "id": "aD_VrX8cSas5"
      },
      "execution_count": null,
      "outputs": []
    },
    {
      "cell_type": "code",
      "source": [
        "#Tempo de execução (aprox.) = 2 min\n",
        "!./panvita.py -vfdb **/*.gbk -png"
      ],
      "metadata": {
        "id": "LtW6KnmTSiEr"
      },
      "execution_count": null,
      "outputs": []
    },
    {
      "cell_type": "markdown",
      "source": [
        "##Desafio\n",
        "\n",
        "Faça o download de 12 genomas no site https://www.ncbi.nlm.nih.gov/datasets/genome/ e realize a análise de identidade média de nucleotídeos e encontre o perfil de genes de virulência da amostra."
      ],
      "metadata": {
        "id": "hykUn68cm2lK"
      }
    }
  ]
}